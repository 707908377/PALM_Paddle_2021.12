{
 "cells": [
  {
   "cell_type": "markdown",
   "metadata": {
    "collapsed": false
   },
   "source": [
    "# 飞桨常规赛：PALM眼底彩照中黄斑中央凹定位 - 12月第3名方案\n",
    "\n",
    "\n",
    "# （1）比赛介绍\n",
    "\n",
    "## 赛题介绍\n",
    "\n",
    "\n",
    "\n",
    "PALM黄斑定位常规赛的重点是研究和发展与患者眼底照片黄斑结构定位相关的算法。该常规赛的目标是评估和比较在一个常见的视网膜眼底图像数据集上定位黄斑的自动算法。具体目的是预测黄斑中央凹在图像中的坐标值。\n",
    "\n",
    "![](https://ai-studio-static-online.cdn.bcebos.com/caac4481a304405db9e5c4ce14497c029ed4ca5d06b6485cb4decd97cbbd136a)\n",
    "\n",
    "\n",
    "中央凹是视网膜中辨色力、分辨力最敏锐的区域。以人为例，在视盘颞侧约3.5mm处，有一黄色小区，称黄斑，其中央的凹陷，就是中央凹。中央凹的准确定位可辅助医生完成糖尿病视网膜、黄斑变性等病变的诊断。\n",
    "\n",
    "\n",
    "\n",
    "\n",
    "\n"
   ]
  },
  {
   "cell_type": "markdown",
   "metadata": {
    "collapsed": false
   },
   "source": [
    "# （2）数据介绍\n",
    "PALM病理性近视预测常规赛由中山大学中山眼科中心提供800张带黄斑中央凹坐标标注的眼底彩照供选手训练模型，另提供400张带标注数据供平台进行模型测试。\n",
    "\n",
    "## 数据说明\n",
    "本次常规赛提供的金标准由中山大学中山眼科中心的7名眼科医生手工进行标注，之后由另一位高级专家将它们融合为最终的标注结果。本比赛提供数据集对应的黄斑中央凹坐标信息存储在xlsx文件中，名为“Fovea_Location_train”，第一列对应眼底图像的文件名(包括扩展名“.jpg”)，第二列包含x坐标，第三列包含y坐标。\n",
    "图\n",
    "\n",
    "## 训练数据集\n",
    "文件名称：Train\n",
    "Train文件夹里有一个文件夹fundus_images和一个xlsx文件。\n",
    "\n",
    "fundus_images文件夹内包含800张眼底彩照，分辨率为1444×1444，或2124×2056。命名形如H0001.jpg、P0001.jpg、N0001.jpg和V0001.jpg。\n",
    "xlsx文件中包含800张眼底彩照对应的x、y坐标信息。\n",
    "## 测试数据集\n",
    "文件名称：PALM-Testing400-Images 文件夹里包含400张眼底彩照，命名形如T0001.jpg。"
   ]
  },
  {
   "cell_type": "markdown",
   "metadata": {
    "collapsed": false
   },
   "source": [
    "# 一、数据处理\n",
    "## 1.1 解压数据集"
   ]
  },
  {
   "cell_type": "code",
   "execution_count": null,
   "metadata": {
    "collapsed": false
   },
   "outputs": [],
   "source": [
    "!unzip -oq /home/aistudio/data/data116960/常规赛：PALM眼底彩照中黄斑中央凹定位.zip\r\n",
    "!mv │г╣ц╚№г║PALM╤█╡╫▓╩╒╒╓╨╗╞░▀╓╨╤ы░╝╢и╬╗ 常规赛：PALM眼底彩照中黄斑中央凹定位\r\n",
    "!rm -rf __MACOSX\r\n"
   ]
  },
  {
   "cell_type": "code",
   "execution_count": null,
   "metadata": {
    "collapsed": false
   },
   "outputs": [],
   "source": [
    "!mv /home/aistudio/PALM眼底彩照中黄斑中央凹定位/* /home/aistudio/work/常规赛：PALM眼底彩照中黄斑中央凹定位/\r\n"
   ]
  },
  {
   "cell_type": "markdown",
   "metadata": {
    "collapsed": false
   },
   "source": [
    "## 1.2 查看数据标签"
   ]
  },
  {
   "cell_type": "code",
   "execution_count": null,
   "metadata": {
    "collapsed": false
   },
   "outputs": [
    {
     "data": {
      "text/html": [
       "<style type='text/css'>\n",
       ".datatable table.frame { margin-bottom: 0; }\n",
       ".datatable table.frame thead { border-bottom: none; }\n",
       ".datatable table.frame tr.coltypes td {  color: #FFFFFF;  line-height: 6px;  padding: 0 0.5em;}\n",
       ".datatable .bool    { background: #DDDD99; }\n",
       ".datatable .object  { background: #565656; }\n",
       ".datatable .int     { background: #5D9E5D; }\n",
       ".datatable .float   { background: #4040CC; }\n",
       ".datatable .str     { background: #CC4040; }\n",
       ".datatable .row_index {  background: var(--jp-border-color3);  border-right: 1px solid var(--jp-border-color0);  color: var(--jp-ui-font-color3);  font-size: 9px;}\n",
       ".datatable .frame tr.coltypes .row_index {  background: var(--jp-border-color0);}\n",
       ".datatable th:nth-child(2) { padding-left: 12px; }\n",
       ".datatable .hellipsis {  color: var(--jp-cell-editor-border-color);}\n",
       ".datatable .vellipsis {  background: var(--jp-layout-color0);  color: var(--jp-cell-editor-border-color);}\n",
       ".datatable .na {  color: var(--jp-cell-editor-border-color);  font-size: 80%;}\n",
       ".datatable .footer { font-size: 9px; }\n",
       ".datatable .frame_dimensions {  background: var(--jp-border-color3);  border-top: 1px solid var(--jp-border-color0);  color: var(--jp-ui-font-color3);  display: inline-block;  opacity: 0.6;  padding: 1px 10px 1px 5px;}\n",
       ".datatable .frame thead tr.colnames {  background-image: url('data:image/png;base64,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');  background-repeat: repeat-x;  background-size: 14px;  height: 28px;}\n",
       "</style>\n"
      ],
      "text/plain": [
       "<IPython.core.display.HTML object>"
      ]
     },
     "metadata": {},
     "output_type": "display_data"
    },
    {
     "data": {
      "text/html": [
       "<div>\n",
       "<style scoped>\n",
       "    .dataframe tbody tr th:only-of-type {\n",
       "        vertical-align: middle;\n",
       "    }\n",
       "\n",
       "    .dataframe tbody tr th {\n",
       "        vertical-align: top;\n",
       "    }\n",
       "\n",
       "    .dataframe thead th {\n",
       "        text-align: right;\n",
       "    }\n",
       "</style>\n",
       "<table border=\"1\" class=\"dataframe\">\n",
       "  <thead>\n",
       "    <tr style=\"text-align: right;\">\n",
       "      <th></th>\n",
       "      <th>imgName</th>\n",
       "      <th>Fovea_X</th>\n",
       "      <th>Fovea_Y</th>\n",
       "    </tr>\n",
       "  </thead>\n",
       "  <tbody>\n",
       "    <tr>\n",
       "      <th>0</th>\n",
       "      <td>H0001.jpg</td>\n",
       "      <td>743.96</td>\n",
       "      <td>790.54</td>\n",
       "    </tr>\n",
       "    <tr>\n",
       "      <th>1</th>\n",
       "      <td>H0002.jpg</td>\n",
       "      <td>1394.82</td>\n",
       "      <td>725.54</td>\n",
       "    </tr>\n",
       "    <tr>\n",
       "      <th>2</th>\n",
       "      <td>H0003.jpg</td>\n",
       "      <td>1361.74</td>\n",
       "      <td>870.72</td>\n",
       "    </tr>\n",
       "    <tr>\n",
       "      <th>3</th>\n",
       "      <td>H0004.jpg</td>\n",
       "      <td>703.15</td>\n",
       "      <td>742.44</td>\n",
       "    </tr>\n",
       "    <tr>\n",
       "      <th>4</th>\n",
       "      <td>H0005.jpg</td>\n",
       "      <td>1070.95</td>\n",
       "      <td>1037.54</td>\n",
       "    </tr>\n",
       "  </tbody>\n",
       "</table>\n",
       "</div>"
      ],
      "text/plain": [
       "     imgName  Fovea_X  Fovea_Y\n",
       "0  H0001.jpg   743.96   790.54\n",
       "1  H0002.jpg  1394.82   725.54\n",
       "2  H0003.jpg  1361.74   870.72\n",
       "3  H0004.jpg   703.15   742.44\n",
       "4  H0005.jpg  1070.95  1037.54"
      ]
     },
     "execution_count": null,
     "metadata": {},
     "output_type": "execute_result"
    }
   ],
   "source": [
    "import blackhole.dataframe as pd\r\n",
    "df=pd.read_excel('常规赛：PALM眼底彩照中黄斑中央凹定位/Train/Fovea_Location_train.xlsx')\r\n",
    "\r\n",
    "df.head()"
   ]
  },
  {
   "cell_type": "code",
   "execution_count": null,
   "metadata": {
    "collapsed": false
   },
   "outputs": [
    {
     "name": "stdout",
     "output_type": "stream",
     "text": [
      "标签的均值为: 1085.6073687500023\n",
      "标签的标准差为: 183.5345073716085\n"
     ]
    }
   ],
   "source": [
    "# 计算标签的均值和标准差，用于标签的归一化\r\n",
    "key_pts_values = df.values[:,1:] # 取出标签信息\r\n",
    "data_mean = key_pts_values.mean() # 计算均值\r\n",
    "data_std = key_pts_values.std() # 计算标准差\r\n",
    "\r\n",
    "\r\n",
    "print('标签的均值为:', data_mean)\r\n",
    "print('标签的标准差为:', data_std)"
   ]
  },
  {
   "cell_type": "markdown",
   "metadata": {
    "collapsed": false
   },
   "source": [
    "## 1.3 数据增强\n",
    "\n",
    "* 为了防止过拟合和泛化能力不强，对图片进行数据增强处理\n",
    "\n",
    "* 本案例使用的主要操作包括剪裁和灰度化等等\n"
   ]
  },
  {
   "cell_type": "code",
   "execution_count": null,
   "metadata": {
    "collapsed": false
   },
   "outputs": [],
   "source": [
    "import paddle.vision.transforms.functional as F\r\n",
    "class Resize(object):\r\n",
    "    # 将输入图像调整为指定大小\r\n",
    "\r\n",
    "    def __init__(self, output_size):\r\n",
    "        assert isinstance(output_size, (int, tuple))\r\n",
    "        self.output_size = output_size\r\n",
    "\r\n",
    "    def __call__(self, data):\r\n",
    "\r\n",
    "        image = data[0]    # 获取图片\r\n",
    "        key_pts = data[1]  # 获取标签\r\n",
    "\r\n",
    "        image_copy = np.copy(image)      \r\n",
    "        key_pts_copy = np.copy(key_pts)\r\n",
    "\r\n",
    "        h, w = image_copy.shape[:2]\r\n",
    "\r\n",
    "        new_h, new_w = self.output_size,self.output_size\r\n",
    "\r\n",
    "        new_h, new_w = int(new_h), int(new_w)\r\n",
    "\r\n",
    "        img = F.resize(image_copy, (new_h, new_w))\r\n",
    "        \r\n",
    "        # scale the pts, too\r\n",
    "        #key_pts_copy[::2] = key_pts_copy[::2] * new_w / w\r\n",
    "        #key_pts_copy[1::2] = key_pts_copy[1::2] * new_h / h\r\n",
    "\r\n",
    "        return img, key_pts_copy\r\n",
    "\r\n",
    "\r\n",
    "\r\n",
    "\r\n",
    "class GrayNormalize(object):\r\n",
    "    # 将图片变为灰度图，并将其值放缩到[0, 1]\r\n",
    "    # 将 label 放缩到 [-1, 1] 之间\r\n",
    "\r\n",
    "    def __call__(self, data):\r\n",
    "        image = data[0]   # 获取图片\r\n",
    "        key_pts = data[1] # 获取标签\r\n",
    "        \r\n",
    "        image_copy = np.copy(image)\r\n",
    "        key_pts_copy = np.copy(key_pts)\r\n",
    "\r\n",
    "        # 灰度化图片\r\n",
    "        gray_scale = paddle.vision.transforms.Grayscale(num_output_channels=3)\r\n",
    "        image_copy = gray_scale(image_copy)\r\n",
    "        \r\n",
    "        # 将图片值放缩到 [0, 1]\r\n",
    "        image_copy = (image_copy-127.5) / 127.5\r\n",
    "        \r\n",
    "        # 将坐标点放缩到 [-1, 1]\r\n",
    "        #mean = data_mean # 获取标签均值\r\n",
    "        #std = data_std   # 获取标签标准差\r\n",
    "\r\n",
    "        #key_pts_copy = (key_pts_copy - mean)/std\r\n",
    "\r\n",
    "        return image_copy, key_pts_copy\r\n",
    "\r\n",
    "class ToCHW(object):\r\n",
    "    # 将图像的格式由HWC改为CHW\r\n",
    "    def __call__(self, data):\r\n",
    "\r\n",
    "        image = data[0]\r\n",
    "        key_pts = data[1]\r\n",
    "\r\n",
    "        transpose = T.Transpose((2, 0, 1)) # 改为CHW\r\n",
    "        image = transpose(image)\r\n",
    "        \r\n",
    "        return image, key_pts"
   ]
  },
  {
   "cell_type": "code",
   "execution_count": null,
   "metadata": {
    "collapsed": false
   },
   "outputs": [],
   "source": [
    "import paddle.vision.transforms as T\r\n",
    "data_transform = T.Compose([\r\n",
    "                        Resize(224),\r\n",
    "                        \r\n",
    "                        GrayNormalize(),\r\n",
    "                        ToCHW(),\r\n",
    "                         ])\r\n",
    "data_transform2 = T.Compose([\r\n",
    "                        Resize(224),\r\n",
    "                        GrayNormalize(),\r\n",
    "                        ToCHW(),\r\n",
    "                        ])"
   ]
  },
  {
   "cell_type": "markdown",
   "metadata": {
    "collapsed": false
   },
   "source": [
    "## 1.4 自定义数据集"
   ]
  },
  {
   "cell_type": "code",
   "execution_count": null,
   "metadata": {
    "collapsed": false
   },
   "outputs": [],
   "source": [
    "path='常规赛：PALM眼底彩照中黄斑中央凹定位/Train/fundus_image/'\r\n",
    "df=df.sample(frac=1)\r\n",
    "image_list=[]\r\n",
    "label_listx=[]\r\n",
    "label_listy=[]\r\n",
    "\r\n",
    "for i in range(len(df)):\r\n",
    "        image_list.append(path+df['imgName'][i])\r\n",
    "        label_listx.append(df['Fovea_X'][i])\r\n",
    "        label_listy.append(df['Fovea_Y'][i])"
   ]
  },
  {
   "cell_type": "code",
   "execution_count": null,
   "metadata": {
    "collapsed": false
   },
   "outputs": [],
   "source": [
    "\r\n",
    "import os\r\n",
    "test_path='常规赛：PALM眼底彩照中黄斑中央凹定位/PALM-Testing400-Images'\r\n",
    "test_list=[]\r\n",
    "test_labelx=[]\r\n",
    "test_labely=[]\r\n",
    "\r\n",
    "list = os.listdir(test_path)  # 列出文件夹下所有的目录与文件\r\n",
    "for i in range(0, len(list)):\r\n",
    "    path = os.path.join(test_path, list[i])\r\n",
    "    test_list.append(path)\r\n",
    "    test_labelx.append(0)\r\n",
    "    test_labely.append(0)\r\n"
   ]
  },
  {
   "cell_type": "code",
   "execution_count": null,
   "metadata": {
    "collapsed": false
   },
   "outputs": [],
   "source": [
    "import paddle\r\n",
    "import cv2\r\n",
    "import numpy as np\r\n",
    "class dataset(paddle.io.Dataset):\r\n",
    "    def __init__(self,img_list,label_listx,label_listy,transform=None,transform2=None,mode='train'):\r\n",
    "\r\n",
    "        self.image=img_list\r\n",
    "        self.labelx=label_listx\r\n",
    "        self.labely=label_listy\r\n",
    "        self.mode=mode\r\n",
    "        self.transform=transform\r\n",
    "        self.transform2=transform2\r\n",
    "    def load_img(self, image_path):\r\n",
    "\r\n",
    "        img=cv2.imread(image_path,1)\r\n",
    "        img=cv2.cvtColor(img,cv2.COLOR_BGR2RGB)\r\n",
    "        h,w,c=img.shape\r\n",
    "        return img,h,w\r\n",
    "\r\n",
    "\r\n",
    "    def __getitem__(self,index):\r\n",
    "        img,h,w = self.load_img(self.image[index])\r\n",
    "        labelx = self.labelx[index]/w\r\n",
    "        labely = self.labely[index]/h\r\n",
    "        img_size=img.shape\r\n",
    "\r\n",
    "        if self.transform:\r\n",
    "            if self.mode=='train':\r\n",
    "                img, label = self.transform([img, [labelx,labely]])\r\n",
    "            else:\r\n",
    "                img, label = self.transform2([img, [labelx,labely]])\r\n",
    "        \r\n",
    "        \r\n",
    "        label=np.array(label,dtype='float32')\r\n",
    "        img=np.array(img,dtype='float32')\r\n",
    "        return img,label\r\n",
    "\r\n",
    "    def __len__(self):\r\n",
    "        return len(self.image)"
   ]
  },
  {
   "cell_type": "markdown",
   "metadata": {
    "collapsed": false
   },
   "source": [
    "## 1.5 划分数据集\n",
    "\n",
    "* 以0.85的比率划分训练集和测试集，数据集中有85%作为训练集，15%作为验证集"
   ]
  },
  {
   "cell_type": "code",
   "execution_count": null,
   "metadata": {
    "collapsed": false
   },
   "outputs": [],
   "source": [
    "radio=0.85\r\n",
    "train_list=image_list[:int(len(image_list)*radio)]\r\n",
    "train_labelx=label_listx[:int(len(label_listx)*radio)]\r\n",
    "train_labely=label_listy[:int(len(label_listy)*radio)]\r\n",
    "\r\n",
    "\r\n",
    "val_list=image_list[int(len(image_list)*radio):]\r\n",
    "val_labelx=label_listx[int(len(label_listx)*radio):]\r\n",
    "val_labely=label_listy[int(len(label_listy)*radio):]\r\n",
    "\r\n",
    "\r\n",
    "train_ds=dataset(train_list,train_labelx,train_labely,data_transform,data_transform2,'train')\r\n",
    "val_ds=dataset(val_list,val_labelx,val_labely,data_transform,data_transform2,'valid')\r\n",
    "test_ds=dataset(test_list,test_labelx,test_labely,data_transform,data_transform2,'test')"
   ]
  },
  {
   "cell_type": "markdown",
   "metadata": {
    "collapsed": false
   },
   "source": [
    "## 1.6 查看图片"
   ]
  },
  {
   "cell_type": "code",
   "execution_count": null,
   "metadata": {
    "collapsed": false
   },
   "outputs": [
    {
     "name": "stderr",
     "output_type": "stream",
     "text": [
      "/opt/conda/envs/python35-paddle120-env/lib/python3.7/site-packages/matplotlib/__init__.py:107: DeprecationWarning: Using or importing the ABCs from 'collections' instead of from 'collections.abc' is deprecated, and in 3.8 it will stop working\n",
      "  from collections import MutableMapping\n",
      "/opt/conda/envs/python35-paddle120-env/lib/python3.7/site-packages/matplotlib/rcsetup.py:20: DeprecationWarning: Using or importing the ABCs from 'collections' instead of from 'collections.abc' is deprecated, and in 3.8 it will stop working\n",
      "  from collections import Iterable, Mapping\n",
      "/opt/conda/envs/python35-paddle120-env/lib/python3.7/site-packages/matplotlib/colors.py:53: DeprecationWarning: Using or importing the ABCs from 'collections' instead of from 'collections.abc' is deprecated, and in 3.8 it will stop working\n",
      "  from collections import Sized\n",
      "/opt/conda/envs/python35-paddle120-env/lib/python3.7/site-packages/matplotlib/cbook/__init__.py:2349: DeprecationWarning: Using or importing the ABCs from 'collections' instead of from 'collections.abc' is deprecated, and in 3.8 it will stop working\n",
      "  if isinstance(obj, collections.Iterator):\n",
      "/opt/conda/envs/python35-paddle120-env/lib/python3.7/site-packages/matplotlib/cbook/__init__.py:2366: DeprecationWarning: Using or importing the ABCs from 'collections' instead of from 'collections.abc' is deprecated, and in 3.8 it will stop working\n",
      "  return list(data) if isinstance(data, collections.MappingView) else data\n",
      "Clipping input data to the valid range for imshow with RGB data ([0..1] for floats or [0..255] for integers).\n"
     ]
    },
    {
     "name": "stdout",
     "output_type": "stream",
     "text": [
      "(224, 224, 3)\n"
     ]
    },
    {
     "data": {
      "text/plain": [
       "<Figure size 640x480 with 1 Axes>"
      ]
     },
     "metadata": {},
     "output_type": "display_data"
    }
   ],
   "source": [
    "import matplotlib.pyplot as plt\r\n",
    "for i,data in enumerate(train_ds):\r\n",
    "    \r\n",
    "    img,label=data\r\n",
    "\r\n",
    "    img=img.transpose([1,2,0])\r\n",
    "    print(img.shape)\r\n",
    "    \r\n",
    "    plt.title(label)\r\n",
    "    plt.imshow(img)\r\n",
    "    plt.show()\r\n",
    "\r\n",
    "    if i==0:\r\n",
    "        break"
   ]
  },
  {
   "cell_type": "markdown",
   "metadata": {
    "collapsed": false
   },
   "source": [
    "# 二、模型构建\n",
    "## 2.1 模型组网\n",
    "* 本案例选择resnet152进行模型组网，resnet152相比于resnet50对于本赛题的准确性更高\n",
    "* 详情可参考[官方文档](https://www.paddlepaddle.org.cn/documentation/docs/zh/guides/02_paddle2.0_develop/04_model_cn.html)组建神经网络模型"
   ]
  },
  {
   "cell_type": "code",
   "execution_count": null,
   "metadata": {
    "collapsed": false
   },
   "outputs": [],
   "source": [
    "class MyNet(paddle.nn.Layer):\r\n",
    "    def __init__(self):\r\n",
    "        super(MyNet, self).__init__()\r\n",
    "        self.resnet = paddle.vision.resnet152(pretrained=True, num_classes=0) \r\n",
    "        self.flatten = paddle.nn.Flatten()\r\n",
    "        self.linear_1 = paddle.nn.Linear(2048, 512)\r\n",
    "        self.linear_2 = paddle.nn.Linear(512, 256)\r\n",
    "        self.linear_3 = paddle.nn.Linear(256, 2)\r\n",
    "        self.relu = paddle.nn.ReLU()\r\n",
    "        self.dropout = paddle.nn.Dropout(0.2)\r\n",
    "    \r\n",
    "    def forward(self, inputs):\r\n",
    "\r\n",
    "        y = self.resnet(inputs)\r\n",
    "        y = self.flatten(y)\r\n",
    "        y = self.linear_1(y)\r\n",
    "        y = self.linear_2(y)\r\n",
    "        y = self.relu(y)\r\n",
    "        y = self.dropout(y)\r\n",
    "        y = self.linear_3(y)\r\n",
    "        y = paddle.nn.functional.sigmoid(y)\r\n",
    "\r\n",
    "        return y"
   ]
  },
  {
   "cell_type": "markdown",
   "metadata": {
    "collapsed": false
   },
   "source": [
    "## 2.2 异步加载数据"
   ]
  },
  {
   "cell_type": "code",
   "execution_count": null,
   "metadata": {
    "collapsed": false
   },
   "outputs": [],
   "source": [
    "train_loader = paddle.io.DataLoader(train_ds, places=paddle.CPUPlace(), batch_size=32, shuffle=True, num_workers=0)\r\n",
    "val_loader = paddle.io.DataLoader(val_ds, places=paddle.CPUPlace(), batch_size=32, shuffle=True, num_workers=0)\r\n",
    "test_loader=paddle.io.DataLoader(test_ds, places=paddle.CPUPlace(), batch_size=32, shuffle=False, num_workers=0)"
   ]
  },
  {
   "cell_type": "markdown",
   "metadata": {
    "collapsed": false
   },
   "source": [
    "## 2.3 自定义损失函数"
   ]
  },
  {
   "cell_type": "code",
   "execution_count": null,
   "metadata": {
    "collapsed": false
   },
   "outputs": [],
   "source": [
    "from sklearn.metrics.pairwise import euclidean_distances \r\n",
    "import paddle.nn as nn\r\n",
    "# 损失函数\r\n",
    "def cal_coordinate_Loss(logit, label, alpha = 0.5):\r\n",
    "    \"\"\"\r\n",
    "    logit: shape [batch, ndim]\r\n",
    "    label: shape [batch, ndim]\r\n",
    "    ndim = 2 represents coordinate_x and coordinaate_y\r\n",
    "    alpha: weight for MSELoss and 1-alpha for ED loss\r\n",
    "    return: combine MSELoss and ED Loss for x and y, shape [batch, 1]\r\n",
    "    \"\"\"\r\n",
    "    alpha = alpha\r\n",
    "    mse_loss = nn.MSELoss(reduction='mean')\r\n",
    "\r\n",
    "    mse_x = mse_loss(logit[:,0],label[:,0])\r\n",
    "    mse_y = mse_loss(logit[:,1],label[:,1])\r\n",
    "    mse_l = 0.5*(mse_x + mse_y)\r\n",
    "    # print('mse_l', mse_l)\r\n",
    "\r\n",
    "    ed_loss = []\r\n",
    "    # print(logit.shape[0])\r\n",
    "    for i in range(logit.shape[0]):\r\n",
    "        logit_tmp = logit[i,:].numpy()\r\n",
    "        label_tmp = label[i,:].numpy()\r\n",
    "        # print('cal_coordinate_loss_ed', logit_tmp, label_tmp)        \r\n",
    "        ed_tmp = euclidean_distances([logit_tmp], [label_tmp])\r\n",
    "        # print('ed_tmp:', ed_tmp[0][0])\r\n",
    "        ed_loss.append(ed_tmp)\r\n",
    "    \r\n",
    "    ed_l = sum(ed_loss)/len(ed_loss)\r\n",
    "    # print('ed_l', ed_l)\r\n",
    "    # print('alpha', alpha)\r\n",
    "    loss = alpha * mse_l + (1-alpha) * ed_l\r\n",
    "    # print('loss in function', loss)\r\n",
    "    return loss"
   ]
  },
  {
   "cell_type": "code",
   "execution_count": null,
   "metadata": {
    "collapsed": false
   },
   "outputs": [],
   "source": [
    "class SelfDefineLoss(paddle.nn.Layer):\r\n",
    "   \"\"\"\r\n",
    "   1. 继承paddle.nn.Layer\r\n",
    "   \"\"\"\r\n",
    "   def __init__(self):\r\n",
    "       \"\"\"\r\n",
    "       2. 构造函数根据自己的实际算法需求和使用需求进行参数定义即可\r\n",
    "       \"\"\"\r\n",
    "       super(SelfDefineLoss, self).__init__()\r\n",
    "\r\n",
    "   def forward(self, input, label):\r\n",
    "       \"\"\"\r\n",
    "       3. 实现forward函数，forward在调用时会传递两个参数：input和label\r\n",
    "           - input：单个或批次训练数据经过模型前向计算输出结果\r\n",
    "           - label：单个或批次训练数据对应的标签数据\r\n",
    "           接口返回值是一个Tensor，根据自定义的逻辑加和或计算均值后的损失\r\n",
    "       \"\"\"\r\n",
    "       # 使用PaddlePaddle中相关API自定义的计算逻辑\r\n",
    "       output = cal_coordinate_Loss(input,label)\r\n",
    "       return output"
   ]
  },
  {
   "cell_type": "markdown",
   "metadata": {
    "collapsed": false
   },
   "source": [
    "# 三、训练、评估与预测\n",
    "## 3.1 模型训练与可视化\n",
    "\n",
    "* 本次比赛结果的调优过程：设定了401轮迭代（从epoch1到epoch401）\n",
    "\n",
    "* 批次大小Batch_size设定为32，根据自己的显存大小进行设定\n",
    "\n",
    "* 因为计算机字符都是以2的指数次幂进行存储的，所以设置 batch_size时尽量选择例如 4， 8， 16， 32， 64， 128， 256 等\n",
    "\n",
    "* Batch Size的大小影响模型的优化程度和速度。同时其直接影响到GPU内存的使用情况，假如你GPU内存不大，该数值最好设置小一点\n",
    "\n",
    "* 使用 cosine annealing 的策略来动态调整学习率，learning_rate为1e-5\n",
    "\n",
    "* 经测试以上参数设定可以达到较好的结果"
   ]
  },
  {
   "cell_type": "code",
   "execution_count": 16,
   "metadata": {
    "collapsed": false
   },
   "outputs": [
    {
     "name": "stderr",
     "output_type": "stream",
     "text": [
      "100%|██████████| 355826/355826 [00:10<00:00, 35415.15it/s]\n"
     ]
    },
    {
     "name": "stdout",
     "output_type": "stream",
     "text": [
      "The loss value printed in the log is the current step, and the metric is the average value of previous steps.\n",
      "Epoch 1/401\n"
     ]
    },
    {
     "name": "stderr",
     "output_type": "stream",
     "text": [
      "/opt/conda/envs/python35-paddle120-env/lib/python3.7/site-packages/paddle/fluid/layers/utils.py:77: DeprecationWarning: Using or importing the ABCs from 'collections' instead of from 'collections.abc' is deprecated, and in 3.8 it will stop working\n",
      "  return (isinstance(seq, collections.Sequence) and\n",
      "/opt/conda/envs/python35-paddle120-env/lib/python3.7/site-packages/paddle/nn/layer/norm.py:641: UserWarning: When training, we now always track global mean and variance.\n",
      "  \"When training, we now always track global mean and variance.\")\n"
     ]
    },
    {
     "name": "stdout",
     "output_type": "stream",
     "text": [
      "save checkpoint at /home/aistudio/work/lup/final\r"
     ]
    }
   ],
   "source": [
    "from utils import NME\r\n",
    "visualdl=paddle.callbacks.VisualDL(log_dir='visual_log')\r\n",
    "#定义输入\r\n",
    "\r\n",
    "Batch_size=32\r\n",
    "EPOCHS=401\r\n",
    "step_each_epoch = len(train_ds)//Batch_size\r\n",
    "\r\n",
    "\r\n",
    "# 使用 paddle.Model 封装模型\r\n",
    "model = paddle.Model(MyNet())\r\n",
    "\r\n",
    "#模型加载\r\n",
    "#model.load('/home/aistudio/work/lup/final')\r\n",
    "\r\n",
    "\r\n",
    "lr = paddle.optimizer.lr.CosineAnnealingDecay(learning_rate=1e-5,\r\n",
    "                                                T_max=step_each_epoch * EPOCHS)\r\n",
    "\r\n",
    "\r\n",
    "\r\n",
    "\r\n",
    "# 定义Adam优化器\r\n",
    "optimizer = paddle.optimizer.Adam(learning_rate=lr,\r\n",
    "                                weight_decay=1e-5,\r\n",
    "                                parameters=model.parameters())\r\n",
    "# 定义SmoothL1Loss\r\n",
    "loss =paddle.nn.SmoothL1Loss()\r\n",
    "#loss =SelfDefineLoss()\r\n",
    "\r\n",
    "# 使用自定义metrics\r\n",
    "metric = NME()\r\n",
    "\r\n",
    "model.prepare(optimizer=optimizer, loss=loss, metrics=metric)\r\n",
    "\r\n",
    "\r\n",
    "\r\n",
    "\r\n",
    "# 训练可视化VisualDL工具的回调函数\r\n",
    "\r\n",
    "# 启动模型全流程训练\r\n",
    "model.fit(train_loader,  # 训练数据集\r\n",
    "          val_loader,   # 评估数据集\r\n",
    "          epochs=EPOCHS,       # 训练的总轮次\r\n",
    "          batch_size=Batch_size,  # 训练使用的批大小\r\n",
    "          save_dir=\"/home/aistudio/work/lup\", #把模型参数、优化器参数保存至自定义的文件夹\r\n",
    "          save_freq=20,                    #设定每隔多少个epoch保存模型参数及优化器参数\r\n",
    "          verbose=1 ,      # 日志展示形式\r\n",
    "          callbacks=[visualdl]\r\n",
    "          )  # 设置可视化"
   ]
  },
  {
   "cell_type": "markdown",
   "metadata": {
    "collapsed": false
   },
   "source": [
    "## 3.2 模型评估\n",
    "\n",
    "* 最终比赛提交的结果中，checkpoints使用的是/home/aistudio/work/lup/路径下的**final**\n",
    "\n",
    "* 通过以下操作进行模型评估"
   ]
  },
  {
   "cell_type": "code",
   "execution_count": 17,
   "metadata": {
    "collapsed": false
   },
   "outputs": [
    {
     "name": "stdout",
     "output_type": "stream",
     "text": [
      "Eval begin...\n",
      "step 4/4 [==============================] - loss: 0.0015 - nme: 0.0507 - 2s/step\n",
      "Eval samples: 120\n",
      "{'loss': [0.0014828634], 'nme': 0.05066016193988991}\n"
     ]
    }
   ],
   "source": [
    "# 模型评估\r\n",
    "model.load('/home/aistudio/work/lup/final')\r\n",
    "result = model.evaluate(val_loader, verbose=1)\r\n",
    "print(result)"
   ]
  },
  {
   "cell_type": "markdown",
   "metadata": {
    "collapsed": false
   },
   "source": [
    "## 3.3 预测结果"
   ]
  },
  {
   "cell_type": "code",
   "execution_count": 18,
   "metadata": {
    "collapsed": false
   },
   "outputs": [
    {
     "name": "stdout",
     "output_type": "stream",
     "text": [
      "Predict begin...\n",
      "step 13/13 [==============================] - 2s/step         \n",
      "Predict samples: 400\n"
     ]
    }
   ],
   "source": [
    "# 进行预测操作\r\n",
    "result = model.predict(test_loader)"
   ]
  },
  {
   "cell_type": "code",
   "execution_count": 19,
   "metadata": {
    "collapsed": false
   },
   "outputs": [],
   "source": [
    "# 获取测试图片尺寸和图片名\r\n",
    "test_path='常规赛：PALM眼底彩照中黄斑中央凹定位/PALM-Testing400-Images'\r\n",
    "test_size=[]\r\n",
    "FileName=[]\r\n",
    "for i in range(len(list)):\r\n",
    "    path = os.path.join(test_path, list[i])\r\n",
    "    img=cv2.imread(path,1)\r\n",
    "    test_size.append(img.shape)\r\n",
    "    FileName.append(list[i])\r\n",
    "test_size=np.array(test_size)"
   ]
  },
  {
   "cell_type": "markdown",
   "metadata": {
    "collapsed": false
   },
   "source": [
    "* 将预测结果写入result.csv文件中"
   ]
  },
  {
   "cell_type": "code",
   "execution_count": 20,
   "metadata": {
    "collapsed": false
   },
   "outputs": [
    {
     "name": "stderr",
     "output_type": "stream",
     "text": [
      "/opt/conda/envs/python35-paddle120-env/lib/python3.7/site-packages/ipykernel_launcher.py:1: VisibleDeprecationWarning: Creating an ndarray from ragged nested sequences (which is a list-or-tuple of lists-or-tuples-or ndarrays with different lengths or shapes) is deprecated. If you meant to do this, you must specify 'dtype=object' when creating the ndarray.\n",
      "  \"\"\"Entry point for launching an IPython kernel.\n"
     ]
    }
   ],
   "source": [
    "result=np.array(result)\r\n",
    "pred=[]\r\n",
    "for i in range(len(result[0])):\r\n",
    "    pred.extend(result[0][i])\r\n",
    "pred=np.array(pred) \r\n",
    "\r\n",
    "pred = paddle.to_tensor(pred)\r\n",
    "out=np.array(pred).reshape(-1,2)\r\n",
    "\r\n",
    "#Fovea_X=out[:,0]*data_std+data_mean\r\n",
    "#Fovea_Y=out[:,1]*data_std+data_mean\r\n",
    "Fovea_X=out[:,0]\r\n",
    "Fovea_Y=out[:,1]\r\n",
    "\r\n",
    "Fovea_X=Fovea_X*test_size[:,1]\r\n",
    "Fovea_Y=Fovea_Y*test_size[:,0]\r\n",
    "\r\n",
    "submission = pd.DataFrame(data={\r\n",
    "                            \"FileName\": FileName,\r\n",
    "                            \"Fovea_X\": Fovea_X,\r\n",
    "                            \"Fovea_Y\": Fovea_Y\r\n",
    "                        })\r\n",
    "submission=submission.sort_values(by='FileName')\r\n",
    "submission.to_csv(\"result.csv\", index=False)"
   ]
  },
  {
   "cell_type": "markdown",
   "metadata": {
    "collapsed": false
   },
   "source": [
    "# 总结\n",
    "\n",
    "* 进一步调整学习率及超参数\n",
    "\n",
    "* 尝试其他优化器\n",
    "\n",
    "* 尝试定义更深层的神经网络\n",
    "\n",
    "* 模型能力有限度，尝试新的网络模型\n",
    "\n",
    "* 丰富数据增强操作\n"
   ]
  },
  {
   "cell_type": "markdown",
   "metadata": {
    "collapsed": false
   },
   "source": [
    "# 参考资料\n",
    "\n",
    "[飞桨常规赛：PALM眼底彩照中黄斑中央凹定位-9月第1名方案](https://aistudio.baidu.com/aistudio/projectdetail/2332679)\n",
    "\n",
    "[飞桨常规赛：PALM眼底彩照中黄斑中央凹定位-8月第9名方案](https://aistudio.baidu.com/aistudio/projectdetail/2309957?channelType=0&channel=0)\n",
    "\n",
    "[『深度学习7日打卡营』人脸关键点检测](https://aistudio.baidu.com/aistudio/projectdetail/1487972)\n"
   ]
  }
 ],
 "metadata": {
  "kernelspec": {
   "display_name": "Python 3",
   "language": "python",
   "name": "py35-paddle1.2.0"
  },
  "language_info": {
   "codemirror_mode": {
    "name": "ipython",
    "version": 3
   },
   "file_extension": ".py",
   "mimetype": "text/x-python",
   "name": "python",
   "nbconvert_exporter": "python",
   "pygments_lexer": "ipython3",
   "version": "3.7.4"
  }
 },
 "nbformat": 4,
 "nbformat_minor": 1
}
